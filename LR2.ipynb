{
 "cells": [
  {
   "cell_type": "code",
   "execution_count": 17,
   "metadata": {},
   "outputs": [],
   "source": [
    "from __future__ import print_function, division\n",
    "import requests\n",
    "import pandas as pd\n",
    "import numpy as np\n",
    "import os.path\n",
    "from bs4 import BeautifulSoup\n",
    "import patsy\n",
    "\n",
    "import matplotlib.pyplot as plt\n",
    "import seaborn as sns\n",
    "sns.set_style(\"darkgrid\")\n",
    "\n",
    "%matplotlib inline\n",
    "\n",
    "import statsmodels.api as sm\n",
    "from sklearn.linear_model import LinearRegression, Lasso, LassoCV\n",
    "from sklearn.linear_model import RidgeCV\n",
    "import statsmodels.formula.api as smf\n",
    "from statsmodels.tools.data import _is_using_pandas, _is_recarray\n",
    "from statsmodels.tools.validation import array_like\n",
    "from sklearn.preprocessing import StandardScaler\n",
    "from sklearn.model_selection import train_test_split"
   ]
  },
  {
   "cell_type": "code",
   "execution_count": 2,
   "metadata": {},
   "outputs": [],
   "source": [
    "df = pd.read_csv(r'C:\\Users\\andro\\Metis\\module2_repo\\combined.csv')"
   ]
  },
  {
   "cell_type": "code",
   "execution_count": 3,
   "metadata": {},
   "outputs": [
    {
     "data": {
      "text/plain": [
       "Index(['Unnamed: 0', 'Player', 'Pos', 'Age', 'Tm', 'G', 'GS', 'MP', 'FG',\n",
       "       'FGA', 'FG%', '3P', '3PA', '3P%', '2P', '2PA', '2P%', 'eFG%', 'FT',\n",
       "       'FTA', 'FT%', 'ORB', 'DRB', 'TRB', 'AST', 'STL', 'BLK', 'TOV', 'PF',\n",
       "       'PTS', 'YEAR', 'SALARY'],\n",
       "      dtype='object')"
      ]
     },
     "execution_count": 3,
     "metadata": {},
     "output_type": "execute_result"
    }
   ],
   "source": [
    "df.columns"
   ]
  },
  {
   "cell_type": "code",
   "execution_count": 12,
   "metadata": {},
   "outputs": [],
   "source": [
    "X_train, X_test, y_train, y_test = train_test_split(df[['Age', 'MP', '3P', '3P%', '2P', 'FT',\n",
    "       'FT%', 'TRB', 'AST', 'STL', 'BLK', 'TOV',\n",
    "       'PTS', 'YEAR']], df['SALARY'], test_size=0.2, random_state=42)"
   ]
  },
  {
   "cell_type": "code",
   "execution_count": 13,
   "metadata": {},
   "outputs": [
    {
     "data": {
      "text/plain": [
       "0.564831680737403"
      ]
     },
     "execution_count": 13,
     "metadata": {},
     "output_type": "execute_result"
    }
   ],
   "source": [
    "df=df.fillna(0)\n",
    "m = LinearRegression()\n",
    "m.fit(X_train,y_train)\n",
    "m.score(X_train,y_train)"
   ]
  },
  {
   "cell_type": "code",
   "execution_count": 14,
   "metadata": {
    "scrolled": true
   },
   "outputs": [
    {
     "data": {
      "text/plain": [
       "0.5370309954379993"
      ]
     },
     "execution_count": 14,
     "metadata": {},
     "output_type": "execute_result"
    }
   ],
   "source": [
    "m.score(X_test,y_test)"
   ]
  },
  {
   "cell_type": "code",
   "execution_count": 15,
   "metadata": {},
   "outputs": [
    {
     "data": {
      "text/plain": [
       "0.6788791051148886"
      ]
     },
     "execution_count": 15,
     "metadata": {},
     "output_type": "execute_result"
    }
   ],
   "source": [
    "from sklearn.preprocessing import PolynomialFeatures\n",
    "p = PolynomialFeatures(degree=2)\n",
    "x_train_poly = p.fit_transform(X_train)\n",
    "m.fit(x_train_poly,y_train)\n",
    "m.score(x_train_poly,y_train)"
   ]
  },
  {
   "cell_type": "code",
   "execution_count": 16,
   "metadata": {},
   "outputs": [
    {
     "data": {
      "text/plain": [
       "0.6661254890307993"
      ]
     },
     "execution_count": 16,
     "metadata": {},
     "output_type": "execute_result"
    }
   ],
   "source": [
    "m.score(p.transform(X_test),y_test)"
   ]
  },
  {
   "cell_type": "code",
   "execution_count": 18,
   "metadata": {
    "scrolled": true
   },
   "outputs": [
    {
     "name": "stderr",
     "output_type": "stream",
     "text": [
      "C:\\Users\\andro\\anaconda3\\lib\\site-packages\\sklearn\\linear_model\\_coordinate_descent.py:525: ConvergenceWarning: Objective did not converge. You might want to increase the number of iterations. Duality gap: 29140970299296.0, tolerance: 13874365072427.717\n",
      "  model = cd_fast.enet_coordinate_descent_gram(\n",
      "C:\\Users\\andro\\anaconda3\\lib\\site-packages\\sklearn\\linear_model\\_coordinate_descent.py:525: ConvergenceWarning: Objective did not converge. You might want to increase the number of iterations. Duality gap: 41482881356832.0, tolerance: 13874365072427.717\n",
      "  model = cd_fast.enet_coordinate_descent_gram(\n",
      "C:\\Users\\andro\\anaconda3\\lib\\site-packages\\sklearn\\linear_model\\_coordinate_descent.py:525: ConvergenceWarning: Objective did not converge. You might want to increase the number of iterations. Duality gap: 48885167510008.0, tolerance: 13874365072427.717\n",
      "  model = cd_fast.enet_coordinate_descent_gram(\n",
      "C:\\Users\\andro\\anaconda3\\lib\\site-packages\\sklearn\\linear_model\\_coordinate_descent.py:525: ConvergenceWarning: Objective did not converge. You might want to increase the number of iterations. Duality gap: 50052342902728.0, tolerance: 13874365072427.717\n",
      "  model = cd_fast.enet_coordinate_descent_gram(\n",
      "C:\\Users\\andro\\anaconda3\\lib\\site-packages\\sklearn\\linear_model\\_coordinate_descent.py:525: ConvergenceWarning: Objective did not converge. You might want to increase the number of iterations. Duality gap: 17008371200848.0, tolerance: 13874365072427.717\n",
      "  model = cd_fast.enet_coordinate_descent_gram(\n",
      "C:\\Users\\andro\\anaconda3\\lib\\site-packages\\sklearn\\linear_model\\_coordinate_descent.py:525: ConvergenceWarning: Objective did not converge. You might want to increase the number of iterations. Duality gap: 23434056576512.0, tolerance: 13874365072427.717\n",
      "  model = cd_fast.enet_coordinate_descent_gram(\n",
      "C:\\Users\\andro\\anaconda3\\lib\\site-packages\\sklearn\\linear_model\\_coordinate_descent.py:525: ConvergenceWarning: Objective did not converge. You might want to increase the number of iterations. Duality gap: 64618603774512.0, tolerance: 13874365072427.717\n",
      "  model = cd_fast.enet_coordinate_descent_gram(\n",
      "C:\\Users\\andro\\anaconda3\\lib\\site-packages\\sklearn\\linear_model\\_coordinate_descent.py:525: ConvergenceWarning: Objective did not converge. You might want to increase the number of iterations. Duality gap: 53473761827376.0, tolerance: 13874365072427.717\n",
      "  model = cd_fast.enet_coordinate_descent_gram(\n",
      "C:\\Users\\andro\\anaconda3\\lib\\site-packages\\sklearn\\linear_model\\_coordinate_descent.py:525: ConvergenceWarning: Objective did not converge. You might want to increase the number of iterations. Duality gap: 62130727713968.0, tolerance: 13874365072427.717\n",
      "  model = cd_fast.enet_coordinate_descent_gram(\n",
      "C:\\Users\\andro\\anaconda3\\lib\\site-packages\\sklearn\\linear_model\\_coordinate_descent.py:525: ConvergenceWarning: Objective did not converge. You might want to increase the number of iterations. Duality gap: 49255457907104.0, tolerance: 13874365072427.717\n",
      "  model = cd_fast.enet_coordinate_descent_gram(\n",
      "C:\\Users\\andro\\anaconda3\\lib\\site-packages\\sklearn\\linear_model\\_coordinate_descent.py:525: ConvergenceWarning: Objective did not converge. You might want to increase the number of iterations. Duality gap: 40393654066648.0, tolerance: 13874365072427.717\n",
      "  model = cd_fast.enet_coordinate_descent_gram(\n",
      "C:\\Users\\andro\\anaconda3\\lib\\site-packages\\sklearn\\linear_model\\_coordinate_descent.py:525: ConvergenceWarning: Objective did not converge. You might want to increase the number of iterations. Duality gap: 30888275391392.0, tolerance: 13874365072427.717\n",
      "  model = cd_fast.enet_coordinate_descent_gram(\n",
      "C:\\Users\\andro\\anaconda3\\lib\\site-packages\\sklearn\\linear_model\\_coordinate_descent.py:525: ConvergenceWarning: Objective did not converge. You might want to increase the number of iterations. Duality gap: 24703565906112.0, tolerance: 13874365072427.717\n",
      "  model = cd_fast.enet_coordinate_descent_gram(\n",
      "C:\\Users\\andro\\anaconda3\\lib\\site-packages\\sklearn\\linear_model\\_coordinate_descent.py:525: ConvergenceWarning: Objective did not converge. You might want to increase the number of iterations. Duality gap: 21984723352528.0, tolerance: 13874365072427.717\n",
      "  model = cd_fast.enet_coordinate_descent_gram(\n",
      "C:\\Users\\andro\\anaconda3\\lib\\site-packages\\sklearn\\linear_model\\_coordinate_descent.py:525: ConvergenceWarning: Objective did not converge. You might want to increase the number of iterations. Duality gap: 15043640829720.0, tolerance: 13839407781225.463\n",
      "  model = cd_fast.enet_coordinate_descent_gram(\n",
      "C:\\Users\\andro\\anaconda3\\lib\\site-packages\\sklearn\\linear_model\\_coordinate_descent.py:525: ConvergenceWarning: Objective did not converge. You might want to increase the number of iterations. Duality gap: 20688198841168.0, tolerance: 13839407781225.463\n",
      "  model = cd_fast.enet_coordinate_descent_gram(\n",
      "C:\\Users\\andro\\anaconda3\\lib\\site-packages\\sklearn\\linear_model\\_coordinate_descent.py:525: ConvergenceWarning: Objective did not converge. You might want to increase the number of iterations. Duality gap: 25311834096888.0, tolerance: 13839407781225.463\n",
      "  model = cd_fast.enet_coordinate_descent_gram(\n",
      "C:\\Users\\andro\\anaconda3\\lib\\site-packages\\sklearn\\linear_model\\_coordinate_descent.py:525: ConvergenceWarning: Objective did not converge. You might want to increase the number of iterations. Duality gap: 61354398299120.0, tolerance: 13839407781225.463\n",
      "  model = cd_fast.enet_coordinate_descent_gram(\n",
      "C:\\Users\\andro\\anaconda3\\lib\\site-packages\\sklearn\\linear_model\\_coordinate_descent.py:525: ConvergenceWarning: Objective did not converge. You might want to increase the number of iterations. Duality gap: 69519388291680.0, tolerance: 13839407781225.463\n",
      "  model = cd_fast.enet_coordinate_descent_gram(\n",
      "C:\\Users\\andro\\anaconda3\\lib\\site-packages\\sklearn\\linear_model\\_coordinate_descent.py:525: ConvergenceWarning: Objective did not converge. You might want to increase the number of iterations. Duality gap: 67819785864000.0, tolerance: 13839407781225.463\n",
      "  model = cd_fast.enet_coordinate_descent_gram(\n",
      "C:\\Users\\andro\\anaconda3\\lib\\site-packages\\sklearn\\linear_model\\_coordinate_descent.py:525: ConvergenceWarning: Objective did not converge. You might want to increase the number of iterations. Duality gap: 72967750768256.0, tolerance: 13839407781225.463\n",
      "  model = cd_fast.enet_coordinate_descent_gram(\n",
      "C:\\Users\\andro\\anaconda3\\lib\\site-packages\\sklearn\\linear_model\\_coordinate_descent.py:525: ConvergenceWarning: Objective did not converge. You might want to increase the number of iterations. Duality gap: 105876795218352.0, tolerance: 13839407781225.463\n",
      "  model = cd_fast.enet_coordinate_descent_gram(\n",
      "C:\\Users\\andro\\anaconda3\\lib\\site-packages\\sklearn\\linear_model\\_coordinate_descent.py:525: ConvergenceWarning: Objective did not converge. You might want to increase the number of iterations. Duality gap: 166884004617920.0, tolerance: 13839407781225.463\n",
      "  model = cd_fast.enet_coordinate_descent_gram(\n",
      "C:\\Users\\andro\\anaconda3\\lib\\site-packages\\sklearn\\linear_model\\_coordinate_descent.py:525: ConvergenceWarning: Objective did not converge. You might want to increase the number of iterations. Duality gap: 125367727024992.0, tolerance: 13839407781225.463\n",
      "  model = cd_fast.enet_coordinate_descent_gram(\n",
      "C:\\Users\\andro\\anaconda3\\lib\\site-packages\\sklearn\\linear_model\\_coordinate_descent.py:525: ConvergenceWarning: Objective did not converge. You might want to increase the number of iterations. Duality gap: 71035548651648.0, tolerance: 13839407781225.463\n",
      "  model = cd_fast.enet_coordinate_descent_gram(\n",
      "C:\\Users\\andro\\anaconda3\\lib\\site-packages\\sklearn\\linear_model\\_coordinate_descent.py:525: ConvergenceWarning: Objective did not converge. You might want to increase the number of iterations. Duality gap: 14518539536848.0, tolerance: 13208982124624.408\n",
      "  model = cd_fast.enet_coordinate_descent_gram(\n",
      "C:\\Users\\andro\\anaconda3\\lib\\site-packages\\sklearn\\linear_model\\_coordinate_descent.py:525: ConvergenceWarning: Objective did not converge. You might want to increase the number of iterations. Duality gap: 26572314909672.0, tolerance: 13208982124624.408\n",
      "  model = cd_fast.enet_coordinate_descent_gram(\n",
      "C:\\Users\\andro\\anaconda3\\lib\\site-packages\\sklearn\\linear_model\\_coordinate_descent.py:525: ConvergenceWarning: Objective did not converge. You might want to increase the number of iterations. Duality gap: 37164226772752.0, tolerance: 13208982124624.408\n",
      "  model = cd_fast.enet_coordinate_descent_gram(\n",
      "C:\\Users\\andro\\anaconda3\\lib\\site-packages\\sklearn\\linear_model\\_coordinate_descent.py:525: ConvergenceWarning: Objective did not converge. You might want to increase the number of iterations. Duality gap: 40956926987408.0, tolerance: 13208982124624.408\n",
      "  model = cd_fast.enet_coordinate_descent_gram(\n",
      "C:\\Users\\andro\\anaconda3\\lib\\site-packages\\sklearn\\linear_model\\_coordinate_descent.py:525: ConvergenceWarning: Objective did not converge. You might want to increase the number of iterations. Duality gap: 46401836448448.0, tolerance: 13208982124624.408\n",
      "  model = cd_fast.enet_coordinate_descent_gram(\n",
      "C:\\Users\\andro\\anaconda3\\lib\\site-packages\\sklearn\\linear_model\\_coordinate_descent.py:525: ConvergenceWarning: Objective did not converge. You might want to increase the number of iterations. Duality gap: 52867508503832.0, tolerance: 13208982124624.408\n",
      "  model = cd_fast.enet_coordinate_descent_gram(\n",
      "C:\\Users\\andro\\anaconda3\\lib\\site-packages\\sklearn\\linear_model\\_coordinate_descent.py:525: ConvergenceWarning: Objective did not converge. You might want to increase the number of iterations. Duality gap: 15406723322944.0, tolerance: 13208982124624.408\n",
      "  model = cd_fast.enet_coordinate_descent_gram(\n",
      "C:\\Users\\andro\\anaconda3\\lib\\site-packages\\sklearn\\linear_model\\_coordinate_descent.py:525: ConvergenceWarning: Objective did not converge. You might want to increase the number of iterations. Duality gap: 16458571612128.0, tolerance: 13208982124624.408\n",
      "  model = cd_fast.enet_coordinate_descent_gram(\n",
      "C:\\Users\\andro\\anaconda3\\lib\\site-packages\\sklearn\\linear_model\\_coordinate_descent.py:525: ConvergenceWarning: Objective did not converge. You might want to increase the number of iterations. Duality gap: 15486631587904.0, tolerance: 13208982124624.408\n",
      "  model = cd_fast.enet_coordinate_descent_gram(\n",
      "C:\\Users\\andro\\anaconda3\\lib\\site-packages\\sklearn\\linear_model\\_coordinate_descent.py:525: ConvergenceWarning: Objective did not converge. You might want to increase the number of iterations. Duality gap: 25326071655424.0, tolerance: 13208982124624.408\n",
      "  model = cd_fast.enet_coordinate_descent_gram(\n"
     ]
    },
    {
     "name": "stderr",
     "output_type": "stream",
     "text": [
      "C:\\Users\\andro\\anaconda3\\lib\\site-packages\\sklearn\\linear_model\\_coordinate_descent.py:525: ConvergenceWarning: Objective did not converge. You might want to increase the number of iterations. Duality gap: 15805919022704.0, tolerance: 13784507017750.035\n",
      "  model = cd_fast.enet_coordinate_descent_gram(\n",
      "C:\\Users\\andro\\anaconda3\\lib\\site-packages\\sklearn\\linear_model\\_coordinate_descent.py:525: ConvergenceWarning: Objective did not converge. You might want to increase the number of iterations. Duality gap: 17064311152352.0, tolerance: 13784507017750.035\n",
      "  model = cd_fast.enet_coordinate_descent_gram(\n",
      "C:\\Users\\andro\\anaconda3\\lib\\site-packages\\sklearn\\linear_model\\_coordinate_descent.py:525: ConvergenceWarning: Objective did not converge. You might want to increase the number of iterations. Duality gap: 36008968167216.0, tolerance: 13784507017750.035\n",
      "  model = cd_fast.enet_coordinate_descent_gram(\n",
      "C:\\Users\\andro\\anaconda3\\lib\\site-packages\\sklearn\\linear_model\\_coordinate_descent.py:525: ConvergenceWarning: Objective did not converge. You might want to increase the number of iterations. Duality gap: 34355880779280.0, tolerance: 13784507017750.035\n",
      "  model = cd_fast.enet_coordinate_descent_gram(\n",
      "C:\\Users\\andro\\anaconda3\\lib\\site-packages\\sklearn\\linear_model\\_coordinate_descent.py:525: ConvergenceWarning: Objective did not converge. You might want to increase the number of iterations. Duality gap: 39118792943200.0, tolerance: 13784507017750.035\n",
      "  model = cd_fast.enet_coordinate_descent_gram(\n",
      "C:\\Users\\andro\\anaconda3\\lib\\site-packages\\sklearn\\linear_model\\_coordinate_descent.py:525: ConvergenceWarning: Objective did not converge. You might want to increase the number of iterations. Duality gap: 43904040052144.0, tolerance: 13784507017750.035\n",
      "  model = cd_fast.enet_coordinate_descent_gram(\n",
      "C:\\Users\\andro\\anaconda3\\lib\\site-packages\\sklearn\\linear_model\\_coordinate_descent.py:525: ConvergenceWarning: Objective did not converge. You might want to increase the number of iterations. Duality gap: 47886908126464.0, tolerance: 13784507017750.035\n",
      "  model = cd_fast.enet_coordinate_descent_gram(\n",
      "C:\\Users\\andro\\anaconda3\\lib\\site-packages\\sklearn\\linear_model\\_coordinate_descent.py:525: ConvergenceWarning: Objective did not converge. You might want to increase the number of iterations. Duality gap: 76751370388328.0, tolerance: 13784507017750.035\n",
      "  model = cd_fast.enet_coordinate_descent_gram(\n",
      "C:\\Users\\andro\\anaconda3\\lib\\site-packages\\sklearn\\linear_model\\_coordinate_descent.py:525: ConvergenceWarning: Objective did not converge. You might want to increase the number of iterations. Duality gap: 145308760482936.0, tolerance: 13784507017750.035\n",
      "  model = cd_fast.enet_coordinate_descent_gram(\n",
      "C:\\Users\\andro\\anaconda3\\lib\\site-packages\\sklearn\\linear_model\\_coordinate_descent.py:525: ConvergenceWarning: Objective did not converge. You might want to increase the number of iterations. Duality gap: 115109418736896.0, tolerance: 13784507017750.035\n",
      "  model = cd_fast.enet_coordinate_descent_gram(\n",
      "C:\\Users\\andro\\anaconda3\\lib\\site-packages\\sklearn\\linear_model\\_coordinate_descent.py:525: ConvergenceWarning: Objective did not converge. You might want to increase the number of iterations. Duality gap: 76657889545504.0, tolerance: 13784507017750.035\n",
      "  model = cd_fast.enet_coordinate_descent_gram(\n",
      "C:\\Users\\andro\\anaconda3\\lib\\site-packages\\sklearn\\linear_model\\_coordinate_descent.py:525: ConvergenceWarning: Objective did not converge. You might want to increase the number of iterations. Duality gap: 81286923155680.0, tolerance: 13784507017750.035\n",
      "  model = cd_fast.enet_coordinate_descent_gram(\n",
      "C:\\Users\\andro\\anaconda3\\lib\\site-packages\\sklearn\\linear_model\\_coordinate_descent.py:525: ConvergenceWarning: Objective did not converge. You might want to increase the number of iterations. Duality gap: 57385252766864.0, tolerance: 13784507017750.035\n",
      "  model = cd_fast.enet_coordinate_descent_gram(\n",
      "C:\\Users\\andro\\anaconda3\\lib\\site-packages\\sklearn\\linear_model\\_coordinate_descent.py:525: ConvergenceWarning: Objective did not converge. You might want to increase the number of iterations. Duality gap: 14260280917720.0, tolerance: 14040342498650.775\n",
      "  model = cd_fast.enet_coordinate_descent_gram(\n",
      "C:\\Users\\andro\\anaconda3\\lib\\site-packages\\sklearn\\linear_model\\_coordinate_descent.py:525: ConvergenceWarning: Objective did not converge. You might want to increase the number of iterations. Duality gap: 58730932561136.0, tolerance: 14040342498650.775\n",
      "  model = cd_fast.enet_coordinate_descent_gram(\n",
      "C:\\Users\\andro\\anaconda3\\lib\\site-packages\\sklearn\\linear_model\\_coordinate_descent.py:525: ConvergenceWarning: Objective did not converge. You might want to increase the number of iterations. Duality gap: 46174518548080.0, tolerance: 14040342498650.775\n",
      "  model = cd_fast.enet_coordinate_descent_gram(\n",
      "C:\\Users\\andro\\anaconda3\\lib\\site-packages\\sklearn\\linear_model\\_coordinate_descent.py:525: ConvergenceWarning: Objective did not converge. You might want to increase the number of iterations. Duality gap: 25168086578848.0, tolerance: 14040342498650.775\n",
      "  model = cd_fast.enet_coordinate_descent_gram(\n",
      "C:\\Users\\andro\\anaconda3\\lib\\site-packages\\sklearn\\linear_model\\_coordinate_descent.py:525: ConvergenceWarning: Objective did not converge. You might want to increase the number of iterations. Duality gap: 24670409546912.0, tolerance: 14040342498650.775\n",
      "  model = cd_fast.enet_coordinate_descent_gram(\n",
      "C:\\Users\\andro\\anaconda3\\lib\\site-packages\\sklearn\\linear_model\\_coordinate_descent.py:525: ConvergenceWarning: Objective did not converge. You might want to increase the number of iterations. Duality gap: 27641837961808.0, tolerance: 14040342498650.775\n",
      "  model = cd_fast.enet_coordinate_descent_gram(\n",
      "C:\\Users\\andro\\anaconda3\\lib\\site-packages\\sklearn\\linear_model\\_coordinate_descent.py:525: ConvergenceWarning: Objective did not converge. You might want to increase the number of iterations. Duality gap: 26489246830208.0, tolerance: 14040342498650.775\n",
      "  model = cd_fast.enet_coordinate_descent_gram(\n",
      "C:\\Users\\andro\\anaconda3\\lib\\site-packages\\sklearn\\linear_model\\_coordinate_descent.py:529: ConvergenceWarning: Objective did not converge. You might want to increase the number of iterations. Duality gap: 8592751744252180.0, tolerance: 17188440450376.094\n",
      "  model = cd_fast.enet_coordinate_descent(\n"
     ]
    },
    {
     "data": {
      "text/plain": [
       "0.6505538683204759"
      ]
     },
     "execution_count": 18,
     "metadata": {},
     "output_type": "execute_result"
    }
   ],
   "source": [
    "m = LassoCV()\n",
    "p = PolynomialFeatures(degree=2)\n",
    "X_train_poly = p.fit_transform(X_train)\n",
    "s = StandardScaler()\n",
    "X_train_poly_scaled = s.fit_transform(X_train_poly)\n",
    "m.fit(X_train_poly_scaled,y_train)\n",
    "m.score(X_train_poly_scaled,y_train)"
   ]
  },
  {
   "cell_type": "code",
   "execution_count": 19,
   "metadata": {},
   "outputs": [
    {
     "data": {
      "text/plain": [
       "-17206007193.213726"
      ]
     },
     "execution_count": 19,
     "metadata": {},
     "output_type": "execute_result"
    }
   ],
   "source": [
    "m.score(p.transform(X_test),y_test)"
   ]
  }
 ],
 "metadata": {
  "kernelspec": {
   "display_name": "Python 3",
   "language": "python",
   "name": "python3"
  },
  "language_info": {
   "codemirror_mode": {
    "name": "ipython",
    "version": 3
   },
   "file_extension": ".py",
   "mimetype": "text/x-python",
   "name": "python",
   "nbconvert_exporter": "python",
   "pygments_lexer": "ipython3",
   "version": "3.8.5"
  }
 },
 "nbformat": 4,
 "nbformat_minor": 4
}
