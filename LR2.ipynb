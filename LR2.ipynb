{
 "cells": [
  {
   "cell_type": "code",
   "execution_count": 1,
   "metadata": {},
   "outputs": [],
   "source": [
    "from __future__ import print_function, division\n",
    "import requests\n",
    "import pandas as pd\n",
    "import numpy as np\n",
    "import os.path\n",
    "from bs4 import BeautifulSoup\n",
    "import patsy\n",
    "\n",
    "import matplotlib.pyplot as plt\n",
    "import seaborn as sns\n",
    "sns.set_style(\"darkgrid\")\n",
    "\n",
    "%matplotlib inline\n",
    "\n",
    "import statsmodels.api as sm\n",
    "from sklearn.linear_model import LinearRegression, Lasso, LassoCV, Ridge, RidgeCV\n",
    "import statsmodels.formula.api as smf\n",
    "from statsmodels.tools.data import _is_using_pandas, _is_recarray\n",
    "from statsmodels.tools.validation import array_like\n",
    "from sklearn.preprocessing import StandardScaler\n",
    "from sklearn.model_selection import train_test_split"
   ]
  },
  {
   "cell_type": "code",
   "execution_count": 2,
   "metadata": {},
   "outputs": [],
   "source": [
    "df = pd.read_csv(r'C:\\Users\\andro\\Metis\\module2_repo\\combined.csv')"
   ]
  },
  {
   "cell_type": "code",
   "execution_count": 3,
   "metadata": {
    "scrolled": true
   },
   "outputs": [],
   "source": [
    "#Limiting 'Pos' column to 2 characters\n",
    "\n",
    "def char_len(x, fixed_n):\n",
    "    if len(x) > fixed_n: \n",
    "        return x[:fixed_n]\n",
    "    else:\n",
    "        return x\n",
    "    \n",
    "df['Pos'] = df['Pos'].apply(lambda x: char_len(x,2))\n",
    "df['Pos'] = df['Pos'].replace(['C-'], 'C')"
   ]
  },
  {
   "cell_type": "code",
   "execution_count": 4,
   "metadata": {},
   "outputs": [],
   "source": [
    "#Creating dummies\n",
    "dummy = pd.get_dummies(df['Pos'], drop_first=True)"
   ]
  },
  {
   "cell_type": "code",
   "execution_count": 5,
   "metadata": {},
   "outputs": [
    {
     "data": {
      "text/plain": [
       "array(['PF', 'PG', 'C', 'SG', 'SF', 'F', 'G'], dtype=object)"
      ]
     },
     "execution_count": 5,
     "metadata": {},
     "output_type": "execute_result"
    }
   ],
   "source": [
    "df.Pos.unique()"
   ]
  },
  {
   "cell_type": "code",
   "execution_count": 6,
   "metadata": {},
   "outputs": [],
   "source": [
    "df = df.drop(columns=['Unnamed: 0','G','PF'])"
   ]
  },
  {
   "cell_type": "code",
   "execution_count": 7,
   "metadata": {
    "scrolled": true
   },
   "outputs": [
    {
     "data": {
      "text/html": [
       "<div>\n",
       "<style scoped>\n",
       "    .dataframe tbody tr th:only-of-type {\n",
       "        vertical-align: middle;\n",
       "    }\n",
       "\n",
       "    .dataframe tbody tr th {\n",
       "        vertical-align: top;\n",
       "    }\n",
       "\n",
       "    .dataframe thead th {\n",
       "        text-align: right;\n",
       "    }\n",
       "</style>\n",
       "<table border=\"1\" class=\"dataframe\">\n",
       "  <thead>\n",
       "    <tr style=\"text-align: right;\">\n",
       "      <th></th>\n",
       "      <th>Player</th>\n",
       "      <th>Pos</th>\n",
       "      <th>Age</th>\n",
       "      <th>Tm</th>\n",
       "      <th>GS</th>\n",
       "      <th>MP</th>\n",
       "      <th>FG</th>\n",
       "      <th>FGA</th>\n",
       "      <th>FG%</th>\n",
       "      <th>3P</th>\n",
       "      <th>...</th>\n",
       "      <th>TOV</th>\n",
       "      <th>PTS</th>\n",
       "      <th>YEAR</th>\n",
       "      <th>SALARY</th>\n",
       "      <th>F</th>\n",
       "      <th>G</th>\n",
       "      <th>PF</th>\n",
       "      <th>PG</th>\n",
       "      <th>SF</th>\n",
       "      <th>SG</th>\n",
       "    </tr>\n",
       "  </thead>\n",
       "  <tbody>\n",
       "    <tr>\n",
       "      <th>0</th>\n",
       "      <td>Precious Achiuwa</td>\n",
       "      <td>PF</td>\n",
       "      <td>21</td>\n",
       "      <td>MIA</td>\n",
       "      <td>2</td>\n",
       "      <td>12.3</td>\n",
       "      <td>2.1</td>\n",
       "      <td>3.8</td>\n",
       "      <td>0.556</td>\n",
       "      <td>0.0</td>\n",
       "      <td>...</td>\n",
       "      <td>0.8</td>\n",
       "      <td>5.2</td>\n",
       "      <td>2021</td>\n",
       "      <td>2582160</td>\n",
       "      <td>0</td>\n",
       "      <td>0</td>\n",
       "      <td>1</td>\n",
       "      <td>0</td>\n",
       "      <td>0</td>\n",
       "      <td>0</td>\n",
       "    </tr>\n",
       "    <tr>\n",
       "      <th>1</th>\n",
       "      <td>Jaylen Adams</td>\n",
       "      <td>PG</td>\n",
       "      <td>24</td>\n",
       "      <td>MIL</td>\n",
       "      <td>0</td>\n",
       "      <td>2.6</td>\n",
       "      <td>0.1</td>\n",
       "      <td>1.1</td>\n",
       "      <td>0.125</td>\n",
       "      <td>0.0</td>\n",
       "      <td>...</td>\n",
       "      <td>0.0</td>\n",
       "      <td>0.3</td>\n",
       "      <td>2021</td>\n",
       "      <td>449115</td>\n",
       "      <td>0</td>\n",
       "      <td>0</td>\n",
       "      <td>0</td>\n",
       "      <td>1</td>\n",
       "      <td>0</td>\n",
       "      <td>0</td>\n",
       "    </tr>\n",
       "    <tr>\n",
       "      <th>2</th>\n",
       "      <td>Steven Adams</td>\n",
       "      <td>C</td>\n",
       "      <td>27</td>\n",
       "      <td>NOP</td>\n",
       "      <td>49</td>\n",
       "      <td>27.9</td>\n",
       "      <td>3.4</td>\n",
       "      <td>5.5</td>\n",
       "      <td>0.616</td>\n",
       "      <td>0.0</td>\n",
       "      <td>...</td>\n",
       "      <td>1.5</td>\n",
       "      <td>7.8</td>\n",
       "      <td>2021</td>\n",
       "      <td>29592695</td>\n",
       "      <td>0</td>\n",
       "      <td>0</td>\n",
       "      <td>0</td>\n",
       "      <td>0</td>\n",
       "      <td>0</td>\n",
       "      <td>0</td>\n",
       "    </tr>\n",
       "    <tr>\n",
       "      <th>3</th>\n",
       "      <td>Bam Adebayo</td>\n",
       "      <td>C</td>\n",
       "      <td>23</td>\n",
       "      <td>MIA</td>\n",
       "      <td>47</td>\n",
       "      <td>33.5</td>\n",
       "      <td>7.3</td>\n",
       "      <td>12.9</td>\n",
       "      <td>0.565</td>\n",
       "      <td>0.0</td>\n",
       "      <td>...</td>\n",
       "      <td>2.6</td>\n",
       "      <td>19.1</td>\n",
       "      <td>2021</td>\n",
       "      <td>5115492</td>\n",
       "      <td>0</td>\n",
       "      <td>0</td>\n",
       "      <td>0</td>\n",
       "      <td>0</td>\n",
       "      <td>0</td>\n",
       "      <td>0</td>\n",
       "    </tr>\n",
       "    <tr>\n",
       "      <th>4</th>\n",
       "      <td>LaMarcus Aldridge</td>\n",
       "      <td>C</td>\n",
       "      <td>35</td>\n",
       "      <td>TOT</td>\n",
       "      <td>23</td>\n",
       "      <td>25.9</td>\n",
       "      <td>5.4</td>\n",
       "      <td>11.4</td>\n",
       "      <td>0.473</td>\n",
       "      <td>1.2</td>\n",
       "      <td>...</td>\n",
       "      <td>1.0</td>\n",
       "      <td>13.5</td>\n",
       "      <td>2021</td>\n",
       "      <td>17628340</td>\n",
       "      <td>0</td>\n",
       "      <td>0</td>\n",
       "      <td>0</td>\n",
       "      <td>0</td>\n",
       "      <td>0</td>\n",
       "      <td>0</td>\n",
       "    </tr>\n",
       "  </tbody>\n",
       "</table>\n",
       "<p>5 rows × 35 columns</p>\n",
       "</div>"
      ],
      "text/plain": [
       "              Player Pos  Age   Tm  GS    MP   FG   FGA    FG%   3P  ...  TOV  \\\n",
       "0   Precious Achiuwa  PF   21  MIA   2  12.3  2.1   3.8  0.556  0.0  ...  0.8   \n",
       "1       Jaylen Adams  PG   24  MIL   0   2.6  0.1   1.1  0.125  0.0  ...  0.0   \n",
       "2       Steven Adams   C   27  NOP  49  27.9  3.4   5.5  0.616  0.0  ...  1.5   \n",
       "3        Bam Adebayo   C   23  MIA  47  33.5  7.3  12.9  0.565  0.0  ...  2.6   \n",
       "4  LaMarcus Aldridge   C   35  TOT  23  25.9  5.4  11.4  0.473  1.2  ...  1.0   \n",
       "\n",
       "    PTS  YEAR    SALARY  F  G  PF  PG  SF  SG  \n",
       "0   5.2  2021   2582160  0  0   1   0   0   0  \n",
       "1   0.3  2021    449115  0  0   0   1   0   0  \n",
       "2   7.8  2021  29592695  0  0   0   0   0   0  \n",
       "3  19.1  2021   5115492  0  0   0   0   0   0  \n",
       "4  13.5  2021  17628340  0  0   0   0   0   0  \n",
       "\n",
       "[5 rows x 35 columns]"
      ]
     },
     "execution_count": 7,
     "metadata": {},
     "output_type": "execute_result"
    }
   ],
   "source": [
    "#Merge dummies\n",
    "df = df.merge(dummy, left_index=True,right_index=True)\n",
    "df.head()"
   ]
  },
  {
   "cell_type": "code",
   "execution_count": 17,
   "metadata": {},
   "outputs": [],
   "source": [
    "#FE: Adding Approximate Value\n",
    "FGMi = df['FGA']-df['FG']\n",
    "FTMi = df['FTA']-df['FT']\n",
    "Credits = (df['PTS']+df['TRB']+df['AST']+df['STL']+df['BLK'])-(FGMi-FTMi)-df['TOV']\n",
    "df['AV'] = (Credits**(.75))/21\n",
    "df=df.fillna(0)"
   ]
  },
  {
   "cell_type": "code",
   "execution_count": 18,
   "metadata": {},
   "outputs": [],
   "source": [
    "X_train, X_test, y_train, y_test = train_test_split(df[['Age', 'MP', '3P', '2P', 'FT',\n",
    "       'TRB', 'AST', 'STL', 'BLK', 'TOV', \n",
    "       'PTS', 'YEAR','F','G','PF','PG','SF','SG','AV']], df['SALARY'], test_size=0.2, random_state=10)"
   ]
  },
  {
   "cell_type": "code",
   "execution_count": 19,
   "metadata": {},
   "outputs": [
    {
     "data": {
      "text/plain": [
       "0.5685378757996102"
      ]
     },
     "execution_count": 19,
     "metadata": {},
     "output_type": "execute_result"
    }
   ],
   "source": [
    "m = LinearRegression()\n",
    "m.fit(X_train,y_train)\n",
    "m.score(X_train,y_train)"
   ]
  },
  {
   "cell_type": "code",
   "execution_count": 20,
   "metadata": {
    "scrolled": true
   },
   "outputs": [
    {
     "data": {
      "text/plain": [
       "0.5750267396467824"
      ]
     },
     "execution_count": 20,
     "metadata": {},
     "output_type": "execute_result"
    }
   ],
   "source": [
    "m.score(X_test,y_test)"
   ]
  },
  {
   "cell_type": "code",
   "execution_count": 21,
   "metadata": {},
   "outputs": [
    {
     "data": {
      "text/plain": [
       "0.6886302182469829"
      ]
     },
     "execution_count": 21,
     "metadata": {},
     "output_type": "execute_result"
    }
   ],
   "source": [
    "from sklearn.preprocessing import PolynomialFeatures\n",
    "p = PolynomialFeatures(degree=2)\n",
    "x_train_poly = p.fit_transform(X_train)\n",
    "m.fit(x_train_poly,y_train)\n",
    "m.score(x_train_poly,y_train)"
   ]
  },
  {
   "cell_type": "code",
   "execution_count": 22,
   "metadata": {
    "scrolled": false
   },
   "outputs": [
    {
     "data": {
      "text/plain": [
       "0.6817968457435686"
      ]
     },
     "execution_count": 22,
     "metadata": {},
     "output_type": "execute_result"
    }
   ],
   "source": [
    "m.score(p.transform(X_test),y_test)"
   ]
  },
  {
   "cell_type": "code",
   "execution_count": 23,
   "metadata": {},
   "outputs": [
    {
     "ename": "NameError",
     "evalue": "name 'lr_poly' is not defined",
     "output_type": "error",
     "traceback": [
      "\u001b[1;31m---------------------------------------------------------------------------\u001b[0m",
      "\u001b[1;31mNameError\u001b[0m                                 Traceback (most recent call last)",
      "\u001b[1;32m<ipython-input-23-528e7d9509ec>\u001b[0m in \u001b[0;36m<module>\u001b[1;34m\u001b[0m\n\u001b[1;32m----> 1\u001b[1;33m \u001b[0mlr_poly\u001b[0m\u001b[1;33m.\u001b[0m\u001b[0mcoef_\u001b[0m\u001b[1;33m\u001b[0m\u001b[1;33m\u001b[0m\u001b[0m\n\u001b[0m",
      "\u001b[1;31mNameError\u001b[0m: name 'lr_poly' is not defined"
     ]
    }
   ],
   "source": [
    "lr_poly.coef_"
   ]
  },
  {
   "cell_type": "code",
   "execution_count": null,
   "metadata": {
    "scrolled": true
   },
   "outputs": [],
   "source": [
    "m = LassoCV()\n",
    "p = PolynomialFeatures(degree=2)\n",
    "X_train_poly = p.fit_transform(X_train)\n",
    "s = StandardScaler()\n",
    "X_train_poly_scaled = s.fit_transform(X_train_poly)\n",
    "m.fit(X_train_poly_scaled,y_train)\n",
    "m.score(X_train_poly_scaled,y_train)"
   ]
  },
  {
   "cell_type": "code",
   "execution_count": null,
   "metadata": {},
   "outputs": [],
   "source": [
    "m.score(p.transform(X_test),y_test)"
   ]
  },
  {
   "cell_type": "code",
   "execution_count": null,
   "metadata": {},
   "outputs": [],
   "source": [
    "selected_columns = ['Age', 'MP', '3P', '2P', 'FT',\n",
    "       'TRB', 'AST', 'STL', 'BLK', 'TOV', \n",
    "       'PTS', 'YEAR']\n",
    "\n",
    "np.random.seed(6)\n",
    "\n",
    "X_train_collinear = X_train.loc[:,selected_columns]\n",
    "lr_model_ridge = Ridge(alpha = 10000)\n",
    "lr_model_ridge.fit(X_train_collinear, y_train)\n",
    "\n",
    "list(zip(X_train_collinear.columns, lr_model_ridge.coef_))"
   ]
  },
  {
   "cell_type": "code",
   "execution_count": null,
   "metadata": {},
   "outputs": [],
   "source": [
    "preds = m.predict(X_train)\n",
    "ax = sns.jointplot(x=preds,y=y_train, kind='reg')\n",
    "ax.fig.suptitle('NBA Player Salary Predicted By Performance Stats')\n",
    "ax.fig.subplots_adjust(top=0.95)"
   ]
  },
  {
   "cell_type": "code",
   "execution_count": null,
   "metadata": {},
   "outputs": [],
   "source": [
    "df['res'] = m.predict(df[['Age', 'MP', '3P', '2P', 'FT',\n",
    "       'TRB', 'AST', 'STL', 'BLK', 'TOV', \n",
    "       'PTS', 'YEAR']])-df['SALARY']\n",
    "\n",
    "df.sort_values(['res']).tail(10)"
   ]
  },
  {
   "cell_type": "code",
   "execution_count": null,
   "metadata": {},
   "outputs": [],
   "source": [
    "m.coef_"
   ]
  }
 ],
 "metadata": {
  "kernelspec": {
   "display_name": "Python 3",
   "language": "python",
   "name": "python3"
  },
  "language_info": {
   "codemirror_mode": {
    "name": "ipython",
    "version": 3
   },
   "file_extension": ".py",
   "mimetype": "text/x-python",
   "name": "python",
   "nbconvert_exporter": "python",
   "pygments_lexer": "ipython3",
   "version": "3.8.5"
  }
 },
 "nbformat": 4,
 "nbformat_minor": 4
}
