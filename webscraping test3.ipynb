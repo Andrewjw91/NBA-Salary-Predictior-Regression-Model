{
 "cells": [
  {
   "cell_type": "code",
   "execution_count": 1,
   "metadata": {},
   "outputs": [],
   "source": [
    "from __future__ import print_function, division\n",
    "import requests\n",
    "import pandas as pd\n",
    "import numpy as np\n",
    "import os.path\n",
    "import numpy as np\n",
    "import pandas as pd\n",
    "\n",
    "import matplotlib.pyplot as plt\n",
    "import seaborn as sns\n",
    "sns.set_style(\"darkgrid\")\n",
    "\n",
    "%matplotlib inline\n",
    "\n",
    "from sklearn.linear_model import LinearRegression, Lasso, LassoCV\n",
    "import statsmodels.formula.api as smf"
   ]
  },
  {
   "cell_type": "code",
   "execution_count": 2,
   "metadata": {},
   "outputs": [],
   "source": [
    "from bs4 import BeautifulSoup\n",
    "import requests\n",
    "\n",
    "dict1 = {}\n",
    "seasons = list(range(2021, 2010, -1))\n",
    "for year in seasons:\n",
    "    dict1[year] = 'https://www.basketball-reference.com/leagues/NBA_{}_per_game.html'.format(year)"
   ]
  },
  {
   "cell_type": "code",
   "execution_count": 3,
   "metadata": {
    "scrolled": true
   },
   "outputs": [
    {
     "name": "stdout",
     "output_type": "stream",
     "text": [
      "{2021: 'https://www.basketball-reference.com/leagues/NBA_2021_per_game.html', 2020: 'https://www.basketball-reference.com/leagues/NBA_2020_per_game.html', 2019: 'https://www.basketball-reference.com/leagues/NBA_2019_per_game.html', 2018: 'https://www.basketball-reference.com/leagues/NBA_2018_per_game.html', 2017: 'https://www.basketball-reference.com/leagues/NBA_2017_per_game.html', 2016: 'https://www.basketball-reference.com/leagues/NBA_2016_per_game.html', 2015: 'https://www.basketball-reference.com/leagues/NBA_2015_per_game.html', 2014: 'https://www.basketball-reference.com/leagues/NBA_2014_per_game.html', 2013: 'https://www.basketball-reference.com/leagues/NBA_2013_per_game.html', 2012: 'https://www.basketball-reference.com/leagues/NBA_2012_per_game.html', 2011: 'https://www.basketball-reference.com/leagues/NBA_2011_per_game.html'}\n"
     ]
    }
   ],
   "source": [
    "print(dict1)"
   ]
  },
  {
   "cell_type": "code",
   "execution_count": 4,
   "metadata": {},
   "outputs": [],
   "source": [
    "url2021 = 'https://www.basketball-reference.com/leagues/NBA_2021_per_game.html'\n",
    "url2020 = 'https://www.basketball-reference.com/leagues/NBA_2020_per_game.html'\n",
    "url2019 = 'https://www.basketball-reference.com/leagues/NBA_2019_per_game.html'\n",
    "url2018 = 'https://www.basketball-reference.com/leagues/NBA_2018_per_game.html'\n",
    "url2017 = 'https://www.basketball-reference.com/leagues/NBA_2017_per_game.html'\n",
    "url2016 = 'https://www.basketball-reference.com/leagues/NBA_2016_per_game.html'\n",
    "url2015 = 'https://www.basketball-reference.com/leagues/NBA_2015_per_game.html'\n",
    "url2014 = 'https://www.basketball-reference.com/leagues/NBA_2014_per_game.html'\n",
    "url2013 = 'https://www.basketball-reference.com/leagues/NBA_2013_per_game.html'\n",
    "url2012 = 'https://www.basketball-reference.com/leagues/NBA_2012_per_game.html'\n",
    "url2011 = 'https://www.basketball-reference.com/leagues/NBA_2011_per_game.html'"
   ]
  },
  {
   "cell_type": "code",
   "execution_count": 5,
   "metadata": {},
   "outputs": [],
   "source": [
    "response = requests.get(url2021)\n",
    "page = response.text\n",
    "soup = BeautifulSoup(page, \"lxml\")\n",
    "\n",
    "#Assigning header row to column\n",
    "headers = [th.getText() for th in soup.findAll('tr', limit=2)[0].findAll('th')]\n",
    "headers = headers[1:]\n",
    "#Web scrape text from table rows excluding header\n",
    "rows = soup.find_all('tr')[1:]\n",
    "player_stats = [[td.getText() for td in rows[i].find_all('td')]\n",
    "            for i in range(len(rows))]\n",
    "#Adding to df\n",
    "stats2021 = pd.DataFrame(player_stats, columns = headers)\n",
    "stats2021['YEAR'] = 2021"
   ]
  },
  {
   "cell_type": "code",
   "execution_count": 6,
   "metadata": {},
   "outputs": [],
   "source": [
    "url_list = [url2020, url2019, url2018, url2017, url2016, url2015, url2014, url2013, url2012, url2011]\n",
    "yearslist = [2020,2019,2018,2017,2016,2015,2014,2013,2012,2011]"
   ]
  },
  {
   "cell_type": "code",
   "execution_count": 7,
   "metadata": {},
   "outputs": [],
   "source": [
    "for i in url_list:\n",
    "    response = requests.get(i)\n",
    "    page = response.text\n",
    "    soup = BeautifulSoup(page, \"lxml\")\n",
    "    rows = soup.find_all('tr')[1:]\n",
    "    player_stats2 = [[td.getText() for td in rows[r].find_all('td')] for r in range(len(rows))]\n",
    "    stats = pd.DataFrame(player_stats2, columns = headers)\n",
    "    for y in yearslist:\n",
    "        stats['YEAR'] = y\n",
    "        stats = stats.reset_index(drop=True)\n",
    "        stats2021 = pd.concat([stats2021,stats], axis=0)"
   ]
  },
  {
   "cell_type": "code",
   "execution_count": 8,
   "metadata": {},
   "outputs": [],
   "source": [
    "stats2021.to_csv(r'C:\\Users\\andro\\Metis\\module2_repo\\NBA\\combined.csv')"
   ]
  }
 ],
 "metadata": {
  "kernelspec": {
   "display_name": "Python 3",
   "language": "python",
   "name": "python3"
  },
  "language_info": {
   "codemirror_mode": {
    "name": "ipython",
    "version": 3
   },
   "file_extension": ".py",
   "mimetype": "text/x-python",
   "name": "python",
   "nbconvert_exporter": "python",
   "pygments_lexer": "ipython3",
   "version": "3.8.5"
  }
 },
 "nbformat": 4,
 "nbformat_minor": 4
}
