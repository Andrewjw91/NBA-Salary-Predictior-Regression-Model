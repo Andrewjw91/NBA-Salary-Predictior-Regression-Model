{
 "cells": [
  {
   "cell_type": "code",
   "execution_count": 22,
   "metadata": {},
   "outputs": [],
   "source": [
    "from bs4 import BeautifulSoup\n",
    "import requests\n",
    "from __future__ import print_function, division\n",
    "import pandas as pd\n",
    "import numpy as np\n",
    "import os.path"
   ]
  },
  {
   "cell_type": "code",
   "execution_count": 6,
   "metadata": {},
   "outputs": [],
   "source": [
    "url2021 = 'http://www.espn.com/nba/salaries/_/page/{}'.format()\n",
    "url2020 = 'http://www.espn.com/nba/salaries/_/year/2020/page/{}'.format()\n",
    "url2019 = 'http://www.espn.com/nba/salaries/_/year/2019/page/{}'.format()\n",
    "url2018 = 'http://www.espn.com/nba/salaries/_/year/2018/page/{}'.format()\n",
    "url2017 = 'http://www.espn.com/nba/salaries/_/year/2017/page/{}'.format()\n",
    "url2016 = 'http://www.espn.com/nba/salaries/_/year/2016/page/{}'.format()\n",
    "url2015 = 'http://www.espn.com/nba/salaries/_/year/2015/page/{}'.format()\n",
    "url2014 = 'http://www.espn.com/nba/salaries/_/year/2014/page/{}'.format()\n",
    "url2013 = 'http://www.espn.com/nba/salaries/_/year/2013/page/{}'.format()\n",
    "url2012 = 'http://www.espn.com/nba/salaries/_/year/2012/page/{}'.format()\n",
    "\n",
    "url_list = [url2020, url2019, url2018, url2017, url2016, url2015, url2014, url2013, url2012]"
   ]
  },
  {
   "cell_type": "code",
   "execution_count": 7,
   "metadata": {},
   "outputs": [],
   "source": [
    "response = requests.get(url)\n",
    "page = response.text\n",
    "soup = BeautifulSoup(page, \"lxml\")"
   ]
  },
  {
   "cell_type": "code",
   "execution_count": 28,
   "metadata": {
    "scrolled": true
   },
   "outputs": [
    {
     "data": {
      "text/html": [
       "<div>\n",
       "<style scoped>\n",
       "    .dataframe tbody tr th:only-of-type {\n",
       "        vertical-align: middle;\n",
       "    }\n",
       "\n",
       "    .dataframe tbody tr th {\n",
       "        vertical-align: top;\n",
       "    }\n",
       "\n",
       "    .dataframe thead th {\n",
       "        text-align: right;\n",
       "    }\n",
       "</style>\n",
       "<table border=\"1\" class=\"dataframe\">\n",
       "  <thead>\n",
       "    <tr style=\"text-align: right;\">\n",
       "      <th></th>\n",
       "      <th>NAME</th>\n",
       "      <th>SALARY</th>\n",
       "    </tr>\n",
       "  </thead>\n",
       "  <tbody>\n",
       "  </tbody>\n",
       "</table>\n",
       "</div>"
      ],
      "text/plain": [
       "Empty DataFrame\n",
       "Columns: [NAME, SALARY]\n",
       "Index: []"
      ]
     },
     "execution_count": 28,
     "metadata": {},
     "output_type": "execute_result"
    }
   ],
   "source": [
    "header = soup.find('tr', attrs={'class':'colhead'})\n",
    "columns = [col.get_text() for col in header.find_all('td')]\n",
    "df = pd.DataFrame(columns=columns)\n",
    "df = df.drop(['RK','TEAM'], axis=1)\n",
    "df.head()"
   ]
  },
  {
   "cell_type": "code",
   "execution_count": null,
   "metadata": {},
   "outputs": [],
   "source": [
    "namelist = []\n",
    "salarylist =[]\n",
    "\n",
    "\n",
    "for div in soup.find_all(class_='mod-content'):\n",
    "    for row in div.find_all('tr', {\"class\":['oddrow','evenrow']}):\n",
    "        name = row.find_all('td')[1].text\n",
    "        namesplit = name.split(\",\", 1)\n",
    "        nameclean = namesplit[0]\n",
    "        namelist.append(nameclean)\n",
    "        salary = row.find_all('td')[3].text\n",
    "        salary = int(salary.replace('$', '').replace(',', ''))\n",
    "        salarylist.append(salary)"
   ]
  },
  {
   "cell_type": "code",
   "execution_count": null,
   "metadata": {},
   "outputs": [],
   "source": [
    "df['NAME'] = np.array(namelist)\n",
    "df['SALARY'] = np.array(salarylist)\n",
    "df['YEAR'] = 2021\n",
    "df.head()"
   ]
  },
  {
   "cell_type": "code",
   "execution_count": null,
   "metadata": {},
   "outputs": [],
   "source": [
    "headers = [th.getText() for th in soup.findAll('tr', limit=2)[0].findAll('th')]\n",
    "headers = headers[1:]\n",
    "#Web scrape text from table rows excluding header\n",
    "rows = soup.find_all('tr')[1:]\n",
    "player_stats = [[td.getText() for td in rows[i].find_all('td')]\n",
    "            for i in range(len(rows))]\n",
    "#Adding 2021 to df\n",
    "statstotal = pd.DataFrame(player_stats, columns = headers)"
   ]
  }
 ],
 "metadata": {
  "kernelspec": {
   "display_name": "Python 3",
   "language": "python",
   "name": "python3"
  },
  "language_info": {
   "codemirror_mode": {
    "name": "ipython",
    "version": 3
   },
   "file_extension": ".py",
   "mimetype": "text/x-python",
   "name": "python",
   "nbconvert_exporter": "python",
   "pygments_lexer": "ipython3",
   "version": "3.8.5"
  }
 },
 "nbformat": 4,
 "nbformat_minor": 4
}
